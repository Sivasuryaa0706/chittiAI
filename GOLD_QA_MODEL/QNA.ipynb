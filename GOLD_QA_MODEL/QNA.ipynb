{
  "nbformat": 4,
  "nbformat_minor": 0,
  "metadata": {
    "colab": {
      "provenance": []
    },
    "kernelspec": {
      "name": "python3",
      "display_name": "Python 3"
    },
    "language_info": {
      "name": "python"
    }
  },
  "cells": [
    {
      "cell_type": "code",
      "source": [
        "dataset = [\n",
        "    {\"category\": \"Resources for an MBA abroad\", \"question\": \"What are resources for MBA abroad?\", \"url\": \"https://docs.google.com/document/d/e/2PACX-1vSUlhS67W5ZMDPcyOuQk-NQSinjd2K8-mLM_3LDJvjKhywGQ8rLZ1SnefvMqgQ7I4v4WgeBzehvAxS0/pub\"},\n",
        "    {\"category\": \"Resources for an MBA in India\", \"question\": \"Tell me about MBA in India\", \"url\": \"https://docs.google.com/document/d/e/2PACX-1vQp9CzRr21BPH0rvHaOCGSI18qgNB6ys1ANIPfijPF4BIr4WZJL-EqtXWScylo5mhQ3c81fpNDttiMb/pub\"},\n",
        "    {\"category\": \"Resources for an ME/MTech/PhD in India\", \"question\": \"What resources are available for ME/MTech/PhD in India?\", \"url\": \"https://docs.google.com/document/d/e/2PACX-1vS1KFz-1zhajew8l4wXsSWktvA9VoMqhLlegm74oVtls4Lo_w7G5KY48YGu6ZSneprkotJ9DHuiBfwd/pub\"},\n",
        "    {\"category\": \"Resources for an MS/PhD Abroad\", \"question\": \"What are the resources for MS/PhD abroad?\", \"url\": \"https://docs.google.com/document/d/e/2PACX-1vT3NCHqZuWD8qtXMXmsPTH4MCtDxcwghq99QrIbBckQuLZY6ze-Zoyz9c9JHc0n1rlKjRLvCUjtOCnm/pub\"},\n",
        "    {\"category\": \"Resources for Campus Placement\", \"question\": \"How to prepare for campus placement?\", \"url\": \"https://docs.google.com/document/d/e/2PACX-1vQlLBNig8Ke8a8mKC5lkamJRS_T-vK2AAgm9ocUJf-BnsgawQTWYu5K3g_g5wjp4ICW2noW4Y-agt7w/pub\"},\n",
        "    {\"category\": \"Resources for Careers in the Indian Government\", \"question\": \"How to start a career in the Indian Government?\", \"url\": \"https://docs.google.com/document/d/e/2PACX-1vQl57OfH4cdm5WKuDc5wvQ3ir3VmpEv0NiBOYN1VG-DGKAv-1mM-16RGnTA69Gpz11yMQL8sySFNmtp/pub\"},\n",
        "    {\"category\": \"Resources for Competitions\", \"question\": \"What resources are available for competitions?\", \"url\": \"https://docs.google.com/document/d/e/2PACX-1vRC-g5k4emTEAIpzDbrOWuNe-SlO8ZqFSuesGSvIVQS69JDq0pKp6p-nsx9LekkUkjnbf-hkpEcRkCN/pub\"},\n",
        "    {\"category\": \"Resources for Entrepreneurship and Startups\", \"question\": \"How to start a startup or entrepreneurship journey?\", \"url\": \"https://docs.google.com/document/d/e/2PACX-1vQ2HTQJDC90ElSmFzwTdk7_IZGJWA4IBhnuuXVeDtZ-5uU5ifgQph79fBCEoNpdYVwYOezGqSJjZRah/pub\"},\n",
        "    {\"category\": \"Resources for Final Year Projects\", \"question\": \"What are some resources for final year projects?\", \"url\": \"https://docs.google.com/document/e/2PACX-1vT_VX0_uoHMmPpeIY7M8Kwx8Bk_EZW8xY1P5M78WXxnWmsguXe_9hrlOcTkicTb4dR52CbPgKqxxJJs/pub\"},\n",
        "    {\"category\": \"Resources for Improving English Communication\", \"question\": \"How to improve English communication skills?\", \"url\": \"https://docs.google.com/document/u/8/d/e/2PACX-1vTYcFVL-01ypnI0WYW_7fTCqTNV7rGLNS9aPXjub3QCMdiyLs5GHg7f2hg3Z9vCXwt2lQJCK9FoRA-2/pub\"},\n",
        "    {\"category\": \"Resources for Internships\", \"question\": \"What are resources for finding internships?\", \"url\": \"https://docs.google.com/document/e/2PACX-1vQz7Shgl5wus3uaI31j1RYuMhighQ6qDrANsnAMvaeP59pn3QmOdI7dO0PiouMnMb5NH1v6KNEyRCxE/pub\"},\n",
        "    {\"category\": \"Resources for Scholarships\", \"question\": \"Where to find scholarships and funding opportunities?\", \"url\": \"https://docs.google.com/document/e/2PACX-1vS2h_j2y9qeuRvXolGpZ9QNcmkHGenXH-B_0wlKY1ERL9U1Tpa8LQg89TQ9Y9CwH93UKoeiSb89yi-X/pub\"},\n",
        "    {\"category\": \"Resources for Women\", \"question\": \"What resources are available for women?\", \"url\": \"https://docs.google.com/document/e/2PACX-1vQ0Mr5p-NgoKLg_RPAnKbt3Ig-aYInNFSGjWFLIzRStFm-bK_zBawOMCULWKUh6DY4FC040_gUHxaB-/pub\"}\n",
        "]\n"
      ],
      "metadata": {
        "id": "RMmQqPNnYxYS"
      },
      "execution_count": 25,
      "outputs": []
    },
    {
      "cell_type": "code",
      "source": [
        "pip install sentence_transformers"
      ],
      "metadata": {
        "id": "n7b5v1ODY1bC",
        "colab": {
          "base_uri": "https://localhost:8080/"
        },
        "outputId": "4aac8241-2f5e-460e-9915-1e0865879fc5"
      },
      "execution_count": 26,
      "outputs": [
        {
          "output_type": "stream",
          "name": "stdout",
          "text": [
            "Requirement already satisfied: sentence_transformers in /usr/local/lib/python3.10/dist-packages (3.0.1)\n",
            "Requirement already satisfied: transformers<5.0.0,>=4.34.0 in /usr/local/lib/python3.10/dist-packages (from sentence_transformers) (4.41.2)\n",
            "Requirement already satisfied: tqdm in /usr/local/lib/python3.10/dist-packages (from sentence_transformers) (4.66.4)\n",
            "Requirement already satisfied: torch>=1.11.0 in /usr/local/lib/python3.10/dist-packages (from sentence_transformers) (2.3.0+cu121)\n",
            "Requirement already satisfied: numpy in /usr/local/lib/python3.10/dist-packages (from sentence_transformers) (1.25.2)\n",
            "Requirement already satisfied: scikit-learn in /usr/local/lib/python3.10/dist-packages (from sentence_transformers) (1.2.2)\n",
            "Requirement already satisfied: scipy in /usr/local/lib/python3.10/dist-packages (from sentence_transformers) (1.11.4)\n",
            "Requirement already satisfied: huggingface-hub>=0.15.1 in /usr/local/lib/python3.10/dist-packages (from sentence_transformers) (0.23.4)\n",
            "Requirement already satisfied: Pillow in /usr/local/lib/python3.10/dist-packages (from sentence_transformers) (9.4.0)\n",
            "Requirement already satisfied: filelock in /usr/local/lib/python3.10/dist-packages (from huggingface-hub>=0.15.1->sentence_transformers) (3.15.3)\n",
            "Requirement already satisfied: fsspec>=2023.5.0 in /usr/local/lib/python3.10/dist-packages (from huggingface-hub>=0.15.1->sentence_transformers) (2023.6.0)\n",
            "Requirement already satisfied: packaging>=20.9 in /usr/local/lib/python3.10/dist-packages (from huggingface-hub>=0.15.1->sentence_transformers) (24.1)\n",
            "Requirement already satisfied: pyyaml>=5.1 in /usr/local/lib/python3.10/dist-packages (from huggingface-hub>=0.15.1->sentence_transformers) (6.0.1)\n",
            "Requirement already satisfied: requests in /usr/local/lib/python3.10/dist-packages (from huggingface-hub>=0.15.1->sentence_transformers) (2.31.0)\n",
            "Requirement already satisfied: typing-extensions>=3.7.4.3 in /usr/local/lib/python3.10/dist-packages (from huggingface-hub>=0.15.1->sentence_transformers) (4.12.2)\n",
            "Requirement already satisfied: sympy in /usr/local/lib/python3.10/dist-packages (from torch>=1.11.0->sentence_transformers) (1.12.1)\n",
            "Requirement already satisfied: networkx in /usr/local/lib/python3.10/dist-packages (from torch>=1.11.0->sentence_transformers) (3.3)\n",
            "Requirement already satisfied: jinja2 in /usr/local/lib/python3.10/dist-packages (from torch>=1.11.0->sentence_transformers) (3.1.4)\n",
            "Requirement already satisfied: nvidia-cuda-nvrtc-cu12==12.1.105 in /usr/local/lib/python3.10/dist-packages (from torch>=1.11.0->sentence_transformers) (12.1.105)\n",
            "Requirement already satisfied: nvidia-cuda-runtime-cu12==12.1.105 in /usr/local/lib/python3.10/dist-packages (from torch>=1.11.0->sentence_transformers) (12.1.105)\n",
            "Requirement already satisfied: nvidia-cuda-cupti-cu12==12.1.105 in /usr/local/lib/python3.10/dist-packages (from torch>=1.11.0->sentence_transformers) (12.1.105)\n",
            "Requirement already satisfied: nvidia-cudnn-cu12==8.9.2.26 in /usr/local/lib/python3.10/dist-packages (from torch>=1.11.0->sentence_transformers) (8.9.2.26)\n",
            "Requirement already satisfied: nvidia-cublas-cu12==12.1.3.1 in /usr/local/lib/python3.10/dist-packages (from torch>=1.11.0->sentence_transformers) (12.1.3.1)\n",
            "Requirement already satisfied: nvidia-cufft-cu12==11.0.2.54 in /usr/local/lib/python3.10/dist-packages (from torch>=1.11.0->sentence_transformers) (11.0.2.54)\n",
            "Requirement already satisfied: nvidia-curand-cu12==10.3.2.106 in /usr/local/lib/python3.10/dist-packages (from torch>=1.11.0->sentence_transformers) (10.3.2.106)\n",
            "Requirement already satisfied: nvidia-cusolver-cu12==11.4.5.107 in /usr/local/lib/python3.10/dist-packages (from torch>=1.11.0->sentence_transformers) (11.4.5.107)\n",
            "Requirement already satisfied: nvidia-cusparse-cu12==12.1.0.106 in /usr/local/lib/python3.10/dist-packages (from torch>=1.11.0->sentence_transformers) (12.1.0.106)\n",
            "Requirement already satisfied: nvidia-nccl-cu12==2.20.5 in /usr/local/lib/python3.10/dist-packages (from torch>=1.11.0->sentence_transformers) (2.20.5)\n",
            "Requirement already satisfied: nvidia-nvtx-cu12==12.1.105 in /usr/local/lib/python3.10/dist-packages (from torch>=1.11.0->sentence_transformers) (12.1.105)\n",
            "Requirement already satisfied: triton==2.3.0 in /usr/local/lib/python3.10/dist-packages (from torch>=1.11.0->sentence_transformers) (2.3.0)\n",
            "Requirement already satisfied: nvidia-nvjitlink-cu12 in /usr/local/lib/python3.10/dist-packages (from nvidia-cusolver-cu12==11.4.5.107->torch>=1.11.0->sentence_transformers) (12.5.40)\n",
            "Requirement already satisfied: regex!=2019.12.17 in /usr/local/lib/python3.10/dist-packages (from transformers<5.0.0,>=4.34.0->sentence_transformers) (2024.5.15)\n",
            "Requirement already satisfied: tokenizers<0.20,>=0.19 in /usr/local/lib/python3.10/dist-packages (from transformers<5.0.0,>=4.34.0->sentence_transformers) (0.19.1)\n",
            "Requirement already satisfied: safetensors>=0.4.1 in /usr/local/lib/python3.10/dist-packages (from transformers<5.0.0,>=4.34.0->sentence_transformers) (0.4.3)\n",
            "Requirement already satisfied: joblib>=1.1.1 in /usr/local/lib/python3.10/dist-packages (from scikit-learn->sentence_transformers) (1.4.2)\n",
            "Requirement already satisfied: threadpoolctl>=2.0.0 in /usr/local/lib/python3.10/dist-packages (from scikit-learn->sentence_transformers) (3.5.0)\n",
            "Requirement already satisfied: MarkupSafe>=2.0 in /usr/local/lib/python3.10/dist-packages (from jinja2->torch>=1.11.0->sentence_transformers) (2.1.5)\n",
            "Requirement already satisfied: charset-normalizer<4,>=2 in /usr/local/lib/python3.10/dist-packages (from requests->huggingface-hub>=0.15.1->sentence_transformers) (3.3.2)\n",
            "Requirement already satisfied: idna<4,>=2.5 in /usr/local/lib/python3.10/dist-packages (from requests->huggingface-hub>=0.15.1->sentence_transformers) (3.7)\n",
            "Requirement already satisfied: urllib3<3,>=1.21.1 in /usr/local/lib/python3.10/dist-packages (from requests->huggingface-hub>=0.15.1->sentence_transformers) (2.0.7)\n",
            "Requirement already satisfied: certifi>=2017.4.17 in /usr/local/lib/python3.10/dist-packages (from requests->huggingface-hub>=0.15.1->sentence_transformers) (2024.6.2)\n",
            "Requirement already satisfied: mpmath<1.4.0,>=1.1.0 in /usr/local/lib/python3.10/dist-packages (from sympy->torch>=1.11.0->sentence_transformers) (1.3.0)\n"
          ]
        }
      ]
    },
    {
      "cell_type": "code",
      "source": [
        "expanded_dataset = dataset\n",
        "from sentence_transformers import SentenceTransformer\n",
        "\n",
        "model = SentenceTransformer('all-MiniLM-L6-v2')\n",
        "\n",
        "def generate_embeddings(texts):\n",
        "    return model.encode(texts)\n",
        "\n",
        "question_embeddings = generate_embeddings([item['question'] for item in expanded_dataset])\n",
        "category_embeddings = generate_embeddings([item['category'] for item in expanded_dataset])"
      ],
      "metadata": {
        "id": "8diGaYkBY6ri"
      },
      "execution_count": 27,
      "outputs": []
    },
    {
      "cell_type": "code",
      "execution_count": 28,
      "metadata": {
        "id": "B5ViyXbaYqj7"
      },
      "outputs": [],
      "source": [
        "import numpy as np\n",
        "import json\n",
        "from scipy.spatial.distance import cosine\n",
        "# Save embeddings\n",
        "np.save('question_embeddings.npy', question_embeddings)\n",
        "np.save('category_embeddings.npy', category_embeddings)\n",
        "\n",
        "# Save dataset\n",
        "with open('expanded_dataset.json', 'w') as f:\n",
        "    json.dump(expanded_dataset, f)"
      ]
    },
    {
      "cell_type": "code",
      "source": [
        "class ChittiQAModel:\n",
        "    def __init__(self, model_name='all-MiniLM-L6-v2'):\n",
        "        self.model = SentenceTransformer(model_name)\n",
        "        self.question_embeddings = np.load('question_embeddings.npy')\n",
        "        self.category_embeddings = np.load('category_embeddings.npy')\n",
        "        with open('expanded_dataset.json', 'r') as f:\n",
        "            self.dataset = json.load(f)\n",
        "\n",
        "    def find_best_match(self, query):\n",
        "        query_embedding = self.model.encode([query])[0]\n",
        "        similarity_threshold = 0.5\n",
        "        question_similarities = [1 - cosine(query_embedding, qe) for qe in self.question_embeddings]\n",
        "        category_similarities = [1 - cosine(query_embedding, ce) for ce in self.category_embeddings]\n",
        "\n",
        "        combined_similarities = [0.7 * qs + 0.3 * cs for qs, cs in zip(question_similarities, category_similarities)]\n",
        "        best_match_index = np.argmax(combined_similarities)\n",
        "        best_match_similarity = combined_similarities[best_match_index]\n",
        "\n",
        "        if best_match_similarity >= similarity_threshold:\n",
        "            return self.dataset[best_match_index]['url']\n",
        "        else:\n",
        "            return None\n",
        "\n",
        "    def predict(self, query):\n",
        "        best_match_url = self.find_best_match(query)\n",
        "        return best_match_url if best_match_url is not None else \"I'm sorry, I couldn't find a specific resource for that question.\"\n"
      ],
      "metadata": {
        "id": "3RkeWEBIZFJ1"
      },
      "execution_count": 29,
      "outputs": []
    },
    {
      "cell_type": "code",
      "source": [
        "import pickle\n",
        "\n",
        "# Create and save the model\n",
        "model = ChittiQAModel()\n",
        "with open('chitti_gold_qa_model.pkl', 'wb') as f:\n",
        "    pickle.dump(model, f)"
      ],
      "metadata": {
        "id": "oyzniZt0ZJ0T"
      },
      "execution_count": 30,
      "outputs": []
    },
    {
      "cell_type": "code",
      "source": [
        "# Load the model\n",
        "with open('chitti_gold_qa_model.pkl', 'rb') as f:\n",
        "    loaded_model = pickle.load(f)\n",
        "\n",
        "# Use the model\n",
        "query = \"What do you like?\"\n",
        "result = loaded_model.predict(query)\n",
        "\n",
        "print(f\"{result}\")"
      ],
      "metadata": {
        "colab": {
          "base_uri": "https://localhost:8080/"
        },
        "id": "dt-YjVYGZL7J",
        "outputId": "46d9ee33-3e3c-417a-d44e-906c1ee5dcc1"
      },
      "execution_count": 31,
      "outputs": [
        {
          "output_type": "stream",
          "name": "stdout",
          "text": [
            "I'm sorry, I couldn't find a specific resource for that question.\n"
          ]
        }
      ]
    },
    {
      "cell_type": "code",
      "source": [
        "query = \"How to prepare for placements\"\n",
        "result = loaded_model.predict(query)\n",
        "\n",
        "print(f\"{result}\")"
      ],
      "metadata": {
        "id": "Obd7W8MKbPd5",
        "colab": {
          "base_uri": "https://localhost:8080/"
        },
        "outputId": "51dd7573-dc8f-4f2b-a264-7c7b8121eba5"
      },
      "execution_count": 35,
      "outputs": [
        {
          "output_type": "stream",
          "name": "stdout",
          "text": [
            "https://docs.google.com/document/d/e/2PACX-1vQlLBNig8Ke8a8mKC5lkamJRS_T-vK2AAgm9ocUJf-BnsgawQTWYu5K3g_g5wjp4ICW2noW4Y-agt7w/pub\n"
          ]
        }
      ]
    },
    {
      "cell_type": "code",
      "source": [],
      "metadata": {
        "id": "cYs86u9cGJCd"
      },
      "execution_count": 32,
      "outputs": []
    }
  ]
}